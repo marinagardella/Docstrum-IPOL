{
 "cells": [
  {
   "cell_type": "code",
   "execution_count": 1,
   "metadata": {},
   "outputs": [],
   "source": [
    "import cv2\n",
    "import numpy as np\n",
    "from scipy.spatial import KDTree\n",
    "import matplotlib.pyplot as plt"
   ]
  },
  {
   "cell_type": "code",
   "execution_count": 2,
   "metadata": {},
   "outputs": [],
   "source": [
    "def extract_text_centroids(binary_image):\n",
    "    \"\"\"\n",
    "    Extract centroids of connected components in a binary image.\n",
    "    \n",
    "    Args:\n",
    "        binary_image (numpy.ndarray): Binary image of the document (1 for text, 0 for background).\n",
    "        \n",
    "    Returns:\n",
    "        list of tuples: List of (x, y) coordinates of centroids.\n",
    "    \"\"\"\n",
    "    # Find connected components\n",
    "    num_labels, labels, stats, centroids = cv2.connectedComponentsWithStats(binary_image)\n",
    "    \n",
    "    # Exclude background (label 0)\n",
    "    text_centroids = [(int(c[0]), int(c[1])) for i, c in enumerate(centroids) if i != 0]\n",
    "    \n",
    "    return text_centroids"
   ]
  }
 ],
 "metadata": {
  "kernelspec": {
   "display_name": "base",
   "language": "python",
   "name": "python3"
  },
  "language_info": {
   "codemirror_mode": {
    "name": "ipython",
    "version": 3
   },
   "file_extension": ".py",
   "mimetype": "text/x-python",
   "name": "python",
   "nbconvert_exporter": "python",
   "pygments_lexer": "ipython3",
   "version": "3.12.1"
  }
 },
 "nbformat": 4,
 "nbformat_minor": 2
}
